
import pandas as pd
pd.read_csv('imdb_top_10000.txt', sep="\t")

